{
  "cells": [
    {
      "cell_type": "markdown",
      "metadata": {
        "id": "view-in-github",
        "colab_type": "text"
      },
      "source": [
        "<a href=\"https://colab.research.google.com/github/lightbluening/Credit-Risk-Analysis-Using-Machine-Learning/blob/main/AB_Testing.ipynb\" target=\"_parent\"><img src=\"https://colab.research.google.com/assets/colab-badge.svg\" alt=\"Open In Colab\"/></a>"
      ]
    },
    {
      "cell_type": "markdown",
      "metadata": {
        "id": "E7BWCPGkpRVS"
      },
      "source": [
        "# Hypothesis Testing in Action!\n",
        "\n",
        "Hypothesis testing often involves experiements. To design an experiment, one has to determine a number of things, such as sample size, target goal, confidence level, etc. This notebook highlights all these topics you need to know."
      ]
    },
    {
      "cell_type": "markdown",
      "metadata": {
        "id": "o8FrOn6npRVT"
      },
      "source": [
        "## What is A/B Testing?"
      ]
    },
    {
      "cell_type": "markdown",
      "metadata": {
        "id": "6IijCwQppRVT"
      },
      "source": [
        "- Popular experimental analysis ... hypothesis testing involving actual experiments\n",
        "- Comparing **two** products / designs / services / website designs / groups\n",
        "- E.g., one group of users with the original product (<ins>control group</ins>) & another group of users with the newly designed product (<ins>experiment group</ins>)\n",
        "- Popular in\n",
        "    - marketing (e.g., two products, two Ads, two prices)\n",
        "    - MIS (e.g., two new website designs, two software user interfaces)\n",
        "    - supply chain (e.g., two store layouts)\n",
        "    - engineering (e.g., two product designs)\n",
        "    - agribusiness (e.g., two soil treatments)\n",
        "    - medicine (e.g., two therapies)\n",
        "    - ..."
      ]
    },
    {
      "cell_type": "markdown",
      "metadata": {
        "id": "ZZa78fi5pRVU"
      },
      "source": [
        "## Data & Hypothesis"
      ]
    },
    {
      "cell_type": "code",
      "source": [
        "from google.colab import drive\n",
        "drive.mount('/content/drive')"
      ],
      "metadata": {
        "colab": {
          "base_uri": "https://localhost:8080/"
        },
        "id": "Lau644rRpvRv",
        "outputId": "5725cd50-e083-432a-a389-22551daf1402"
      },
      "execution_count": 14,
      "outputs": [
        {
          "output_type": "stream",
          "name": "stdout",
          "text": [
            "Drive already mounted at /content/drive; to attempt to forcibly remount, call drive.mount(\"/content/drive\", force_remount=True).\n"
          ]
        }
      ]
    },
    {
      "cell_type": "code",
      "execution_count": 15,
      "metadata": {
        "id": "z-SD1OIZpRVU"
      },
      "outputs": [],
      "source": [
        "#import packages\n",
        "import pandas as pd\n",
        "import numpy as np\n",
        "import scipy.stats as stats\n",
        "import math\n",
        "import statsmodels.stats.api as sms\n",
        "import scipy.stats as st"
      ]
    },
    {
      "cell_type": "code",
      "execution_count": 16,
      "metadata": {
        "colab": {
          "base_uri": "https://localhost:8080/",
          "height": 224
        },
        "id": "6oQ3HeejpRVU",
        "outputId": "753b2e2c-ab64-4f25-a1e3-2185138036a9"
      },
      "outputs": [
        {
          "output_type": "stream",
          "name": "stdout",
          "text": [
            "Number of rows:  290584  Number of columns:  5\n"
          ]
        },
        {
          "output_type": "execute_result",
          "data": {
            "text/plain": [
              "   user_id timestamp      group landing_page  converted\n",
              "0   851104   11:48.6    control     old_page          0\n",
              "1   804228   01:45.2    control     old_page          0\n",
              "2   661590   55:06.2  treatment     new_page          0\n",
              "3   853541   28:03.1  treatment     new_page          0\n",
              "4   864975   52:26.2    control     old_page          1"
            ],
            "text/html": [
              "\n",
              "\n",
              "  <div id=\"df-e3b3f577-2d51-4b0a-90bf-208609f15441\">\n",
              "    <div class=\"colab-df-container\">\n",
              "      <div>\n",
              "<style scoped>\n",
              "    .dataframe tbody tr th:only-of-type {\n",
              "        vertical-align: middle;\n",
              "    }\n",
              "\n",
              "    .dataframe tbody tr th {\n",
              "        vertical-align: top;\n",
              "    }\n",
              "\n",
              "    .dataframe thead th {\n",
              "        text-align: right;\n",
              "    }\n",
              "</style>\n",
              "<table border=\"1\" class=\"dataframe\">\n",
              "  <thead>\n",
              "    <tr style=\"text-align: right;\">\n",
              "      <th></th>\n",
              "      <th>user_id</th>\n",
              "      <th>timestamp</th>\n",
              "      <th>group</th>\n",
              "      <th>landing_page</th>\n",
              "      <th>converted</th>\n",
              "    </tr>\n",
              "  </thead>\n",
              "  <tbody>\n",
              "    <tr>\n",
              "      <th>0</th>\n",
              "      <td>851104</td>\n",
              "      <td>11:48.6</td>\n",
              "      <td>control</td>\n",
              "      <td>old_page</td>\n",
              "      <td>0</td>\n",
              "    </tr>\n",
              "    <tr>\n",
              "      <th>1</th>\n",
              "      <td>804228</td>\n",
              "      <td>01:45.2</td>\n",
              "      <td>control</td>\n",
              "      <td>old_page</td>\n",
              "      <td>0</td>\n",
              "    </tr>\n",
              "    <tr>\n",
              "      <th>2</th>\n",
              "      <td>661590</td>\n",
              "      <td>55:06.2</td>\n",
              "      <td>treatment</td>\n",
              "      <td>new_page</td>\n",
              "      <td>0</td>\n",
              "    </tr>\n",
              "    <tr>\n",
              "      <th>3</th>\n",
              "      <td>853541</td>\n",
              "      <td>28:03.1</td>\n",
              "      <td>treatment</td>\n",
              "      <td>new_page</td>\n",
              "      <td>0</td>\n",
              "    </tr>\n",
              "    <tr>\n",
              "      <th>4</th>\n",
              "      <td>864975</td>\n",
              "      <td>52:26.2</td>\n",
              "      <td>control</td>\n",
              "      <td>old_page</td>\n",
              "      <td>1</td>\n",
              "    </tr>\n",
              "  </tbody>\n",
              "</table>\n",
              "</div>\n",
              "      <button class=\"colab-df-convert\" onclick=\"convertToInteractive('df-e3b3f577-2d51-4b0a-90bf-208609f15441')\"\n",
              "              title=\"Convert this dataframe to an interactive table.\"\n",
              "              style=\"display:none;\">\n",
              "\n",
              "  <svg xmlns=\"http://www.w3.org/2000/svg\" height=\"24px\"viewBox=\"0 0 24 24\"\n",
              "       width=\"24px\">\n",
              "    <path d=\"M0 0h24v24H0V0z\" fill=\"none\"/>\n",
              "    <path d=\"M18.56 5.44l.94 2.06.94-2.06 2.06-.94-2.06-.94-.94-2.06-.94 2.06-2.06.94zm-11 1L8.5 8.5l.94-2.06 2.06-.94-2.06-.94L8.5 2.5l-.94 2.06-2.06.94zm10 10l.94 2.06.94-2.06 2.06-.94-2.06-.94-.94-2.06-.94 2.06-2.06.94z\"/><path d=\"M17.41 7.96l-1.37-1.37c-.4-.4-.92-.59-1.43-.59-.52 0-1.04.2-1.43.59L10.3 9.45l-7.72 7.72c-.78.78-.78 2.05 0 2.83L4 21.41c.39.39.9.59 1.41.59.51 0 1.02-.2 1.41-.59l7.78-7.78 2.81-2.81c.8-.78.8-2.07 0-2.86zM5.41 20L4 18.59l7.72-7.72 1.47 1.35L5.41 20z\"/>\n",
              "  </svg>\n",
              "      </button>\n",
              "\n",
              "\n",
              "\n",
              "    <div id=\"df-81f47008-8dda-4002-ac46-164f7bf8f531\">\n",
              "      <button class=\"colab-df-quickchart\" onclick=\"quickchart('df-81f47008-8dda-4002-ac46-164f7bf8f531')\"\n",
              "              title=\"Suggest charts.\"\n",
              "              style=\"display:none;\">\n",
              "\n",
              "<svg xmlns=\"http://www.w3.org/2000/svg\" height=\"24px\"viewBox=\"0 0 24 24\"\n",
              "     width=\"24px\">\n",
              "    <g>\n",
              "        <path d=\"M19 3H5c-1.1 0-2 .9-2 2v14c0 1.1.9 2 2 2h14c1.1 0 2-.9 2-2V5c0-1.1-.9-2-2-2zM9 17H7v-7h2v7zm4 0h-2V7h2v10zm4 0h-2v-4h2v4z\"/>\n",
              "    </g>\n",
              "</svg>\n",
              "      </button>\n",
              "    </div>\n",
              "\n",
              "<style>\n",
              "  .colab-df-quickchart {\n",
              "    background-color: #E8F0FE;\n",
              "    border: none;\n",
              "    border-radius: 50%;\n",
              "    cursor: pointer;\n",
              "    display: none;\n",
              "    fill: #1967D2;\n",
              "    height: 32px;\n",
              "    padding: 0 0 0 0;\n",
              "    width: 32px;\n",
              "  }\n",
              "\n",
              "  .colab-df-quickchart:hover {\n",
              "    background-color: #E2EBFA;\n",
              "    box-shadow: 0px 1px 2px rgba(60, 64, 67, 0.3), 0px 1px 3px 1px rgba(60, 64, 67, 0.15);\n",
              "    fill: #174EA6;\n",
              "  }\n",
              "\n",
              "  [theme=dark] .colab-df-quickchart {\n",
              "    background-color: #3B4455;\n",
              "    fill: #D2E3FC;\n",
              "  }\n",
              "\n",
              "  [theme=dark] .colab-df-quickchart:hover {\n",
              "    background-color: #434B5C;\n",
              "    box-shadow: 0px 1px 3px 1px rgba(0, 0, 0, 0.15);\n",
              "    filter: drop-shadow(0px 1px 2px rgba(0, 0, 0, 0.3));\n",
              "    fill: #FFFFFF;\n",
              "  }\n",
              "</style>\n",
              "\n",
              "    <script>\n",
              "      async function quickchart(key) {\n",
              "        const containerElement = document.querySelector('#' + key);\n",
              "        const charts = await google.colab.kernel.invokeFunction(\n",
              "            'suggestCharts', [key], {});\n",
              "      }\n",
              "    </script>\n",
              "\n",
              "      <script>\n",
              "\n",
              "function displayQuickchartButton(domScope) {\n",
              "  let quickchartButtonEl =\n",
              "    domScope.querySelector('#df-81f47008-8dda-4002-ac46-164f7bf8f531 button.colab-df-quickchart');\n",
              "  quickchartButtonEl.style.display =\n",
              "    google.colab.kernel.accessAllowed ? 'block' : 'none';\n",
              "}\n",
              "\n",
              "        displayQuickchartButton(document);\n",
              "      </script>\n",
              "      <style>\n",
              "    .colab-df-container {\n",
              "      display:flex;\n",
              "      flex-wrap:wrap;\n",
              "      gap: 12px;\n",
              "    }\n",
              "\n",
              "    .colab-df-convert {\n",
              "      background-color: #E8F0FE;\n",
              "      border: none;\n",
              "      border-radius: 50%;\n",
              "      cursor: pointer;\n",
              "      display: none;\n",
              "      fill: #1967D2;\n",
              "      height: 32px;\n",
              "      padding: 0 0 0 0;\n",
              "      width: 32px;\n",
              "    }\n",
              "\n",
              "    .colab-df-convert:hover {\n",
              "      background-color: #E2EBFA;\n",
              "      box-shadow: 0px 1px 2px rgba(60, 64, 67, 0.3), 0px 1px 3px 1px rgba(60, 64, 67, 0.15);\n",
              "      fill: #174EA6;\n",
              "    }\n",
              "\n",
              "    [theme=dark] .colab-df-convert {\n",
              "      background-color: #3B4455;\n",
              "      fill: #D2E3FC;\n",
              "    }\n",
              "\n",
              "    [theme=dark] .colab-df-convert:hover {\n",
              "      background-color: #434B5C;\n",
              "      box-shadow: 0px 1px 3px 1px rgba(0, 0, 0, 0.15);\n",
              "      filter: drop-shadow(0px 1px 2px rgba(0, 0, 0, 0.3));\n",
              "      fill: #FFFFFF;\n",
              "    }\n",
              "  </style>\n",
              "\n",
              "      <script>\n",
              "        const buttonEl =\n",
              "          document.querySelector('#df-e3b3f577-2d51-4b0a-90bf-208609f15441 button.colab-df-convert');\n",
              "        buttonEl.style.display =\n",
              "          google.colab.kernel.accessAllowed ? 'block' : 'none';\n",
              "\n",
              "        async function convertToInteractive(key) {\n",
              "          const element = document.querySelector('#df-e3b3f577-2d51-4b0a-90bf-208609f15441');\n",
              "          const dataTable =\n",
              "            await google.colab.kernel.invokeFunction('convertToInteractive',\n",
              "                                                     [key], {});\n",
              "          if (!dataTable) return;\n",
              "\n",
              "          const docLinkHtml = 'Like what you see? Visit the ' +\n",
              "            '<a target=\"_blank\" href=https://colab.research.google.com/notebooks/data_table.ipynb>data table notebook</a>'\n",
              "            + ' to learn more about interactive tables.';\n",
              "          element.innerHTML = '';\n",
              "          dataTable['output_type'] = 'display_data';\n",
              "          await google.colab.output.renderOutput(dataTable, element);\n",
              "          const docLink = document.createElement('div');\n",
              "          docLink.innerHTML = docLinkHtml;\n",
              "          element.appendChild(docLink);\n",
              "        }\n",
              "      </script>\n",
              "    </div>\n",
              "  </div>\n"
            ]
          },
          "metadata": {},
          "execution_count": 16
        }
      ],
      "source": [
        "#import data\n",
        "\n",
        "df = pd.read_csv('/content/drive/My Drive/665/6_z_ABTesting/ab_data_cleaned.csv')\n",
        "\n",
        "print(\"Number of rows: \", df.shape[0], \" Number of columns: \", df.shape[1])\n",
        "df.head()"
      ]
    },
    {
      "cell_type": "markdown",
      "metadata": {
        "id": "mGcYxTt8pRVV"
      },
      "source": [
        "Two user groups\n",
        "\n",
        "- Control group experiencing the old webpage design Vs. Treatment group with the new website design\n",
        "\n",
        "Converted\n",
        "\n",
        "- 0: no product purchase\n",
        "- 1: yes product purchase"
      ]
    },
    {
      "cell_type": "markdown",
      "metadata": {
        "id": "PdLMMxjYpRVV"
      },
      "source": [
        "## Testing Null Hypothesis"
      ]
    },
    {
      "cell_type": "markdown",
      "metadata": {
        "id": "Owoz0Ds6pRVV"
      },
      "source": [
        "- Test if the probability of conversion in the treatment group **=** the probability of conversion in the control group\n",
        "- If p-value is close to zero, reject the null hypothesis and conclude that the treatment (or new design) works."
      ]
    },
    {
      "cell_type": "markdown",
      "metadata": {
        "id": "E8rhJifUpRVV"
      },
      "source": [
        "<img src='https://assets.justinmind.com/wp-content/webp-express/webp-images/uploads/2019/12/obama-email-campaign-ab-testing-example.png.webp'>"
      ]
    },
    {
      "cell_type": "markdown",
      "metadata": {
        "id": "Fc4ClN4EpRVV"
      },
      "source": [
        "## Data understanding & transformation"
      ]
    },
    {
      "cell_type": "markdown",
      "metadata": {
        "id": "YQLXhEZepRVV"
      },
      "source": [
        "### Probability of conversion per group"
      ]
    },
    {
      "cell_type": "code",
      "execution_count": 17,
      "metadata": {
        "colab": {
          "base_uri": "https://localhost:8080/"
        },
        "id": "NKh2WEUipRVV",
        "outputId": "6a75c679-dbb7-448b-a86d-d58ac6e67697"
      },
      "outputs": [
        {
          "output_type": "stream",
          "name": "stdout",
          "text": [
            "145274 145310\n"
          ]
        }
      ],
      "source": [
        "# how many in each group?\n",
        "\n",
        "control = df.loc[df[\"group\"] == \"control\"]   # control group\n",
        "treatment = df.loc[df[\"group\"] == \"treatment\"]   # treatment group\n",
        "print(len(control), len(treatment))"
      ]
    },
    {
      "cell_type": "code",
      "execution_count": 18,
      "metadata": {
        "colab": {
          "base_uri": "https://localhost:8080/"
        },
        "id": "AqHzQtFSpRVV",
        "outputId": "8f95e455-9d82-47b3-befd-c19d670ac055"
      },
      "outputs": [
        {
          "output_type": "stream",
          "name": "stdout",
          "text": [
            "0.4999380557773312\n",
            "0.5000619442226688\n"
          ]
        }
      ],
      "source": [
        "# percentage of each group\n",
        "\n",
        "print(len(control)/len(df))\n",
        "print(len(treatment)/len(df))"
      ]
    },
    {
      "cell_type": "markdown",
      "metadata": {
        "id": "7TPgGoLgpRVW"
      },
      "source": [
        "Control group conversion rate"
      ]
    },
    {
      "cell_type": "code",
      "execution_count": 19,
      "metadata": {
        "colab": {
          "base_uri": "https://localhost:8080/"
        },
        "id": "Y1Mn3PmdpRVW",
        "outputId": "f000b3ef-5340-4660-9d31-2468ec3b6769"
      },
      "outputs": [
        {
          "output_type": "stream",
          "name": "stdout",
          "text": [
            "Number of control users who converted on old page:  17489\n",
            "Percentage of control users who converted:  12.04 %\n"
          ]
        }
      ],
      "source": [
        "conversions_control = df.loc[(df[\"group\"] == \"control\") & (df['converted'] == 1)]\n",
        "\n",
        "print(\"Number of control users who converted on old page: \", len(conversions_control))\n",
        "print(\"Percentage of control users who converted: \", round((len(conversions_control) / len(control)) * 100, 2), \"%\")"
      ]
    },
    {
      "cell_type": "markdown",
      "metadata": {
        "id": "GUmNXBZRpRVW"
      },
      "source": [
        "Treatment group conversion rate"
      ]
    },
    {
      "cell_type": "code",
      "execution_count": 20,
      "metadata": {
        "colab": {
          "base_uri": "https://localhost:8080/"
        },
        "id": "A4k1FCAOpRVW",
        "outputId": "d79facfd-9e50-47ef-905c-baaf7013ff5e"
      },
      "outputs": [
        {
          "output_type": "stream",
          "name": "stdout",
          "text": [
            "Number of treatment users who converted on new page:  17264\n",
            "Percentage of treatment users who converted:  11.88 %\n"
          ]
        }
      ],
      "source": [
        "conversions_treatment = df.loc[(df[\"group\"] == \"treatment\") & (df['converted'] == 1)]\n",
        "\n",
        "print(\"Number of treatment users who converted on new page: \", len(conversions_treatment))\n",
        "print(\"Percentage of treatment users who converted: \", round((len(conversions_treatment) / len(treatment)) * 100, 2), \"%\")"
      ]
    },
    {
      "cell_type": "markdown",
      "metadata": {
        "id": "ydoeGp2TpRVW"
      },
      "source": [
        "### Summary of conversion rates of the two groups\n",
        "\n",
        "- [Mean](https://pandas.pydata.org/pandas-docs/stable/reference/api/pandas.DataFrame.mean.html): Return the mean of the values for the requested axis.\n",
        "- [Standard deviation](https://pandas.pydata.org/pandas-docs/stable/reference/api/pandas.DataFrame.std.html): Return sample standard deviation over requested axis\n",
        "- [Standard error](https://pandas.pydata.org/pandas-docs/stable/reference/api/pandas.DataFrame.sem.html): Return unbiased standard error of the mean"
      ]
    },
    {
      "cell_type": "code",
      "execution_count": 21,
      "metadata": {
        "colab": {
          "base_uri": "https://localhost:8080/"
        },
        "id": "g0FYgdnMpRVW",
        "outputId": "1891effe-1e92-4851-bf72-20f2e130b274"
      },
      "outputs": [
        {
          "output_type": "stream",
          "name": "stdout",
          "text": [
            "group\n",
            "control      0.120386\n",
            "treatment    0.118808\n",
            "Name: converted, dtype: float64\n",
            "group\n",
            "control      0.325414\n",
            "treatment    0.323564\n",
            "Name: converted, dtype: float64\n",
            "group\n",
            "control      0.000854\n",
            "treatment    0.000849\n",
            "Name: converted, dtype: float64\n"
          ]
        }
      ],
      "source": [
        "print(df.groupby('group')['converted'].mean())   # mean\n",
        "print(df.groupby('group')['converted'].std())    # standard deviation\n",
        "print(df.groupby('group')['converted'].sem())    # standard error"
      ]
    },
    {
      "cell_type": "code",
      "execution_count": 22,
      "metadata": {
        "colab": {
          "base_uri": "https://localhost:8080/",
          "height": 143
        },
        "id": "Rw5kex52pRVW",
        "outputId": "75e5acd7-16e9-463c-b251-3752a8af5587"
      },
      "outputs": [
        {
          "output_type": "execute_result",
          "data": {
            "text/plain": [
              "               mean       std       sem\n",
              "group                                  \n",
              "control    0.120386  0.325414  0.000854\n",
              "treatment  0.118808  0.323564  0.000849"
            ],
            "text/html": [
              "\n",
              "\n",
              "  <div id=\"df-cf7ec2b7-68d4-4176-a566-5551866bc5d1\">\n",
              "    <div class=\"colab-df-container\">\n",
              "      <div>\n",
              "<style scoped>\n",
              "    .dataframe tbody tr th:only-of-type {\n",
              "        vertical-align: middle;\n",
              "    }\n",
              "\n",
              "    .dataframe tbody tr th {\n",
              "        vertical-align: top;\n",
              "    }\n",
              "\n",
              "    .dataframe thead th {\n",
              "        text-align: right;\n",
              "    }\n",
              "</style>\n",
              "<table border=\"1\" class=\"dataframe\">\n",
              "  <thead>\n",
              "    <tr style=\"text-align: right;\">\n",
              "      <th></th>\n",
              "      <th>mean</th>\n",
              "      <th>std</th>\n",
              "      <th>sem</th>\n",
              "    </tr>\n",
              "    <tr>\n",
              "      <th>group</th>\n",
              "      <th></th>\n",
              "      <th></th>\n",
              "      <th></th>\n",
              "    </tr>\n",
              "  </thead>\n",
              "  <tbody>\n",
              "    <tr>\n",
              "      <th>control</th>\n",
              "      <td>0.120386</td>\n",
              "      <td>0.325414</td>\n",
              "      <td>0.000854</td>\n",
              "    </tr>\n",
              "    <tr>\n",
              "      <th>treatment</th>\n",
              "      <td>0.118808</td>\n",
              "      <td>0.323564</td>\n",
              "      <td>0.000849</td>\n",
              "    </tr>\n",
              "  </tbody>\n",
              "</table>\n",
              "</div>\n",
              "      <button class=\"colab-df-convert\" onclick=\"convertToInteractive('df-cf7ec2b7-68d4-4176-a566-5551866bc5d1')\"\n",
              "              title=\"Convert this dataframe to an interactive table.\"\n",
              "              style=\"display:none;\">\n",
              "\n",
              "  <svg xmlns=\"http://www.w3.org/2000/svg\" height=\"24px\"viewBox=\"0 0 24 24\"\n",
              "       width=\"24px\">\n",
              "    <path d=\"M0 0h24v24H0V0z\" fill=\"none\"/>\n",
              "    <path d=\"M18.56 5.44l.94 2.06.94-2.06 2.06-.94-2.06-.94-.94-2.06-.94 2.06-2.06.94zm-11 1L8.5 8.5l.94-2.06 2.06-.94-2.06-.94L8.5 2.5l-.94 2.06-2.06.94zm10 10l.94 2.06.94-2.06 2.06-.94-2.06-.94-.94-2.06-.94 2.06-2.06.94z\"/><path d=\"M17.41 7.96l-1.37-1.37c-.4-.4-.92-.59-1.43-.59-.52 0-1.04.2-1.43.59L10.3 9.45l-7.72 7.72c-.78.78-.78 2.05 0 2.83L4 21.41c.39.39.9.59 1.41.59.51 0 1.02-.2 1.41-.59l7.78-7.78 2.81-2.81c.8-.78.8-2.07 0-2.86zM5.41 20L4 18.59l7.72-7.72 1.47 1.35L5.41 20z\"/>\n",
              "  </svg>\n",
              "      </button>\n",
              "\n",
              "\n",
              "\n",
              "    <div id=\"df-9b5aad34-cde6-4e42-998e-09651644d27c\">\n",
              "      <button class=\"colab-df-quickchart\" onclick=\"quickchart('df-9b5aad34-cde6-4e42-998e-09651644d27c')\"\n",
              "              title=\"Suggest charts.\"\n",
              "              style=\"display:none;\">\n",
              "\n",
              "<svg xmlns=\"http://www.w3.org/2000/svg\" height=\"24px\"viewBox=\"0 0 24 24\"\n",
              "     width=\"24px\">\n",
              "    <g>\n",
              "        <path d=\"M19 3H5c-1.1 0-2 .9-2 2v14c0 1.1.9 2 2 2h14c1.1 0 2-.9 2-2V5c0-1.1-.9-2-2-2zM9 17H7v-7h2v7zm4 0h-2V7h2v10zm4 0h-2v-4h2v4z\"/>\n",
              "    </g>\n",
              "</svg>\n",
              "      </button>\n",
              "    </div>\n",
              "\n",
              "<style>\n",
              "  .colab-df-quickchart {\n",
              "    background-color: #E8F0FE;\n",
              "    border: none;\n",
              "    border-radius: 50%;\n",
              "    cursor: pointer;\n",
              "    display: none;\n",
              "    fill: #1967D2;\n",
              "    height: 32px;\n",
              "    padding: 0 0 0 0;\n",
              "    width: 32px;\n",
              "  }\n",
              "\n",
              "  .colab-df-quickchart:hover {\n",
              "    background-color: #E2EBFA;\n",
              "    box-shadow: 0px 1px 2px rgba(60, 64, 67, 0.3), 0px 1px 3px 1px rgba(60, 64, 67, 0.15);\n",
              "    fill: #174EA6;\n",
              "  }\n",
              "\n",
              "  [theme=dark] .colab-df-quickchart {\n",
              "    background-color: #3B4455;\n",
              "    fill: #D2E3FC;\n",
              "  }\n",
              "\n",
              "  [theme=dark] .colab-df-quickchart:hover {\n",
              "    background-color: #434B5C;\n",
              "    box-shadow: 0px 1px 3px 1px rgba(0, 0, 0, 0.15);\n",
              "    filter: drop-shadow(0px 1px 2px rgba(0, 0, 0, 0.3));\n",
              "    fill: #FFFFFF;\n",
              "  }\n",
              "</style>\n",
              "\n",
              "    <script>\n",
              "      async function quickchart(key) {\n",
              "        const containerElement = document.querySelector('#' + key);\n",
              "        const charts = await google.colab.kernel.invokeFunction(\n",
              "            'suggestCharts', [key], {});\n",
              "      }\n",
              "    </script>\n",
              "\n",
              "      <script>\n",
              "\n",
              "function displayQuickchartButton(domScope) {\n",
              "  let quickchartButtonEl =\n",
              "    domScope.querySelector('#df-9b5aad34-cde6-4e42-998e-09651644d27c button.colab-df-quickchart');\n",
              "  quickchartButtonEl.style.display =\n",
              "    google.colab.kernel.accessAllowed ? 'block' : 'none';\n",
              "}\n",
              "\n",
              "        displayQuickchartButton(document);\n",
              "      </script>\n",
              "      <style>\n",
              "    .colab-df-container {\n",
              "      display:flex;\n",
              "      flex-wrap:wrap;\n",
              "      gap: 12px;\n",
              "    }\n",
              "\n",
              "    .colab-df-convert {\n",
              "      background-color: #E8F0FE;\n",
              "      border: none;\n",
              "      border-radius: 50%;\n",
              "      cursor: pointer;\n",
              "      display: none;\n",
              "      fill: #1967D2;\n",
              "      height: 32px;\n",
              "      padding: 0 0 0 0;\n",
              "      width: 32px;\n",
              "    }\n",
              "\n",
              "    .colab-df-convert:hover {\n",
              "      background-color: #E2EBFA;\n",
              "      box-shadow: 0px 1px 2px rgba(60, 64, 67, 0.3), 0px 1px 3px 1px rgba(60, 64, 67, 0.15);\n",
              "      fill: #174EA6;\n",
              "    }\n",
              "\n",
              "    [theme=dark] .colab-df-convert {\n",
              "      background-color: #3B4455;\n",
              "      fill: #D2E3FC;\n",
              "    }\n",
              "\n",
              "    [theme=dark] .colab-df-convert:hover {\n",
              "      background-color: #434B5C;\n",
              "      box-shadow: 0px 1px 3px 1px rgba(0, 0, 0, 0.15);\n",
              "      filter: drop-shadow(0px 1px 2px rgba(0, 0, 0, 0.3));\n",
              "      fill: #FFFFFF;\n",
              "    }\n",
              "  </style>\n",
              "\n",
              "      <script>\n",
              "        const buttonEl =\n",
              "          document.querySelector('#df-cf7ec2b7-68d4-4176-a566-5551866bc5d1 button.colab-df-convert');\n",
              "        buttonEl.style.display =\n",
              "          google.colab.kernel.accessAllowed ? 'block' : 'none';\n",
              "\n",
              "        async function convertToInteractive(key) {\n",
              "          const element = document.querySelector('#df-cf7ec2b7-68d4-4176-a566-5551866bc5d1');\n",
              "          const dataTable =\n",
              "            await google.colab.kernel.invokeFunction('convertToInteractive',\n",
              "                                                     [key], {});\n",
              "          if (!dataTable) return;\n",
              "\n",
              "          const docLinkHtml = 'Like what you see? Visit the ' +\n",
              "            '<a target=\"_blank\" href=https://colab.research.google.com/notebooks/data_table.ipynb>data table notebook</a>'\n",
              "            + ' to learn more about interactive tables.';\n",
              "          element.innerHTML = '';\n",
              "          dataTable['output_type'] = 'display_data';\n",
              "          await google.colab.output.renderOutput(dataTable, element);\n",
              "          const docLink = document.createElement('div');\n",
              "          docLink.innerHTML = docLinkHtml;\n",
              "          element.appendChild(docLink);\n",
              "        }\n",
              "      </script>\n",
              "    </div>\n",
              "  </div>\n"
            ]
          },
          "metadata": {},
          "execution_count": 22
        }
      ],
      "source": [
        "# table format\n",
        "df.groupby('group')['converted'].agg(['mean', 'std', 'sem'])\n",
        "\n",
        "# show three decimal points only\n",
        "#df.groupby('group')['converted'].agg(['mean', 'std', 'sem']).style.format('{:.3f}')"
      ]
    },
    {
      "cell_type": "markdown",
      "metadata": {
        "id": "Sze3oqpipRVW"
      },
      "source": [
        "**Two designs performed very similarly. In fact, the new design didn't do better :-(**"
      ]
    },
    {
      "cell_type": "markdown",
      "metadata": {
        "id": "sUh9f66OpRVW"
      },
      "source": [
        "## A/B Test (Hypothesis Testing)"
      ]
    },
    {
      "cell_type": "markdown",
      "metadata": {
        "id": "GVyKv5BDpRVW"
      },
      "source": [
        "### Set Test Parameters\n",
        "\n",
        "- Determine if the sample size is suitable: How many people should we have in each group?\n",
        "- Determine the confidence level you want to have (e.g., 95 percent)\n",
        "\n",
        "### Additional Terminologies\n",
        "\n",
        "- Effect size: The observed difference (between zero and 100%) in conversion between control group and treatment group. 100% (the maximum value) means the new design works tremendously; Zero means the new design is no better than the old design.\n",
        "- Baseline rate: The conversion rate of the control group (12%)\n",
        "- Practical significance: The improvement you're hoping for from the new design. For example, 2% means your target conversion rate is 14% (= baseline rate + practical significance)"
      ]
    },
    {
      "cell_type": "code",
      "execution_count": 23,
      "metadata": {
        "colab": {
          "base_uri": "https://localhost:8080/"
        },
        "id": "MbsQRZktpRVW",
        "outputId": "61b77a9b-f3e7-4dce-8f07-70b14f4222d7"
      },
      "outputs": [
        {
          "output_type": "stream",
          "name": "stdout",
          "text": [
            "Baseline rate:  0.1203863045004612\n",
            "Required sample size:  4444  per group\n"
          ]
        }
      ],
      "source": [
        "#Check what sample size is required\n",
        "\n",
        "baseline_rate = len(conversions_control) / len(control)\n",
        "print(\"Baseline rate: \", baseline_rate)\n",
        "\n",
        "practical_significance = 0.02   #user defined, meaning we'd be happy with a difference of 2% (and our target rate would be 14%)\n",
        "confidence_level = 0.05         #user defined, for a 95% confidence interval\n",
        "\n",
        "effect_size = sms.proportion_effectsize(baseline_rate, baseline_rate + practical_significance)   #Effect size for a test comparing two proportions\n",
        "\n",
        "sample_size = sms.NormalIndPower().solve_power(effect_size = effect_size, power = 0.8, alpha = confidence_level, ratio=1)\n",
        "\n",
        "print(\"Required sample size: \", round(sample_size), \" per group\")"
      ]
    },
    {
      "cell_type": "markdown",
      "metadata": {
        "id": "-ySJf_x2pRVX"
      },
      "source": [
        "We'd need **at least 4444 observations for each group.**"
      ]
    },
    {
      "cell_type": "markdown",
      "metadata": {
        "id": "8o1MECqjpRVX"
      },
      "source": [
        "### Run A/B test"
      ]
    },
    {
      "cell_type": "code",
      "execution_count": 24,
      "metadata": {
        "id": "zjXLR3hcpRVX"
      },
      "outputs": [],
      "source": [
        "from statsmodels.stats.proportion import proportions_ztest, proportion_confint"
      ]
    },
    {
      "cell_type": "code",
      "execution_count": 25,
      "metadata": {
        "colab": {
          "base_uri": "https://localhost:8080/"
        },
        "id": "GWgtiehBpRVX",
        "outputId": "30a12985-e485-47b5-c7fe-4c3b74d367d1"
      },
      "outputs": [
        {
          "output_type": "execute_result",
          "data": {
            "text/plain": [
              "[145274, 145310]"
            ]
          },
          "metadata": {},
          "execution_count": 25
        }
      ],
      "source": [
        "# how many people in each group?\n",
        "\n",
        "nobs = [len(control), len(treatment)]\n",
        "nobs"
      ]
    },
    {
      "cell_type": "code",
      "execution_count": 26,
      "metadata": {
        "colab": {
          "base_uri": "https://localhost:8080/"
        },
        "id": "7BeQCTiZpRVX",
        "outputId": "b852e07e-80a4-4c7a-ad3a-f739da635936"
      },
      "outputs": [
        {
          "output_type": "execute_result",
          "data": {
            "text/plain": [
              "[17489, 17264]"
            ]
          },
          "metadata": {},
          "execution_count": 26
        }
      ],
      "source": [
        "# how many per each group converted?\n",
        "\n",
        "successes = [len(conversions_control), len(conversions_treatment)]\n",
        "successes"
      ]
    },
    {
      "cell_type": "code",
      "execution_count": 27,
      "metadata": {
        "colab": {
          "base_uri": "https://localhost:8080/"
        },
        "id": "HagBEK8qpRVX",
        "outputId": "a882e15b-5350-4b18-e4bd-20087b8ade97"
      },
      "outputs": [
        {
          "output_type": "stream",
          "name": "stdout",
          "text": [
            "z statistic: 1.31\n",
            "p-value: 0.190\n",
            "ci 95% for control group: [0.119, 0.122]\n",
            "ci 95% for treatment group: [0.117, 0.120]\n"
          ]
        }
      ],
      "source": [
        "z_stat, pval = proportions_ztest(successes, nobs=nobs)\n",
        "(lower_con, lower_treat), (upper_con, upper_treat) = proportion_confint(successes, nobs=nobs, alpha=0.05)\n",
        "\n",
        "print(f'z statistic: {z_stat:.2f}')\n",
        "print(f'p-value: {pval:.3f}')\n",
        "print(f'ci 95% for control group: [{lower_con:.3f}, {upper_con:.3f}]')\n",
        "print(f'ci 95% for treatment group: [{lower_treat:.3f}, {upper_treat:.3f}]')"
      ]
    },
    {
      "cell_type": "markdown",
      "metadata": {
        "id": "o0fa-rdPpRVX"
      },
      "source": [
        "## Conclusions"
      ]
    },
    {
      "cell_type": "markdown",
      "metadata": {
        "id": "H_TuAsidpRVX"
      },
      "source": [
        "Since our **p-value=0.190 is way above our α=0.05 (95 percent confidence interval)** threshold, we cannot reject the Null hypothesis Hₒ, meaning that **our new design did not perform significantly different (let alone better) than our old one :(**\n",
        "\n",
        "Additionally, if we look at the confidence interval for the treatment group ([0.117, 0.120], or 11.7-12.0%) we notice that:\n",
        "\n",
        "    1. It includes our baseline value of 11.9% conversion rate\n",
        "    2. It does not include our target value of 14% (the 2% uplift we were aiming for)\n",
        "\n",
        "What this means is that it is more likely that the true conversion rate of the new design is similar to our baseline, rather than the 14% target we had hoped for. This is further proof that our new design is not likely to be an improvement on our old design."
      ]
    },
    {
      "cell_type": "markdown",
      "metadata": {
        "heading_collapsed": true,
        "id": "17j7jEoXpRVc"
      },
      "source": [
        "## Reproduced from\n",
        "- https://github.com/RobbieGeoghegan/AB_Testing\n",
        "- https://medium.com/@robbiegeoghegan/implementing-a-b-tests-in-python-514e9eb5b3a1\n",
        "- https://medium.com/@RenatoFillinich/ab-testing-with-python-e5964dd66143"
      ]
    }
  ],
  "metadata": {
    "kernelspec": {
      "display_name": "Python 3",
      "language": "python",
      "name": "python3"
    },
    "language_info": {
      "codemirror_mode": {
        "name": "ipython",
        "version": 3
      },
      "file_extension": ".py",
      "mimetype": "text/x-python",
      "name": "python",
      "nbconvert_exporter": "python",
      "pygments_lexer": "ipython3",
      "version": "3.8.8"
    },
    "colab": {
      "provenance": [],
      "include_colab_link": true
    }
  },
  "nbformat": 4,
  "nbformat_minor": 0
}